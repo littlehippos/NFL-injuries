{
 "cells": [
  {
   "cell_type": "markdown",
   "metadata": {},
   "source": [
    "# Model 1: Will they play or not?"
   ]
  },
  {
   "cell_type": "code",
   "execution_count": 3,
   "metadata": {
    "collapsed": false
   },
   "outputs": [
    {
     "ename": "ImportError",
     "evalue": "cannot import name cross_validation",
     "output_type": "error",
     "traceback": [
      "\u001b[0;31m---------------------------------------------------------------------------\u001b[0m",
      "\u001b[0;31mImportError\u001b[0m                               Traceback (most recent call last)",
      "\u001b[0;32m<ipython-input-3-035c368ea927>\u001b[0m in \u001b[0;36m<module>\u001b[0;34m()\u001b[0m\n\u001b[1;32m     12\u001b[0m \u001b[0;32mimport\u001b[0m \u001b[0mmatplotlib\u001b[0m\u001b[0;34m.\u001b[0m\u001b[0mpyplot\u001b[0m \u001b[0;32mas\u001b[0m \u001b[0mplt\u001b[0m\u001b[0;34m\u001b[0m\u001b[0m\n\u001b[1;32m     13\u001b[0m \u001b[0;32mfrom\u001b[0m \u001b[0mmatplotlib\u001b[0m \u001b[0;32mimport\u001b[0m \u001b[0mrc\u001b[0m\u001b[0;34m\u001b[0m\u001b[0m\n\u001b[0;32m---> 14\u001b[0;31m \u001b[0;32mfrom\u001b[0m \u001b[0msklearn\u001b[0m\u001b[0;34m.\u001b[0m\u001b[0mmetrics\u001b[0m \u001b[0;32mimport\u001b[0m \u001b[0mconfusion_matrix\u001b[0m\u001b[0;34m,\u001b[0m \u001b[0mprecision_score\u001b[0m\u001b[0;34m,\u001b[0m \u001b[0mrecall_score\u001b[0m\u001b[0;34m,\u001b[0m \u001b[0maccuracy_score\u001b[0m\u001b[0;34m,\u001b[0m \u001b[0mmean_squared_error\u001b[0m\u001b[0;34m,\u001b[0m \u001b[0mroc_curve\u001b[0m\u001b[0;34m,\u001b[0m \u001b[0mroc_auc_score\u001b[0m\u001b[0;34m,\u001b[0m \u001b[0mcross_validation\u001b[0m\u001b[0;34m\u001b[0m\u001b[0m\n\u001b[0m\u001b[1;32m     15\u001b[0m \u001b[0;32mimport\u001b[0m \u001b[0mdifflib\u001b[0m\u001b[0;34m\u001b[0m\u001b[0m\n",
      "\u001b[0;31mImportError\u001b[0m: cannot import name cross_validation"
     ]
    }
   ],
   "source": [
    "%matplotlib inline\n",
    "import json, sqlite3, sys\n",
    "import numpy as np\n",
    "import pandas as pd\n",
    "from collections import defaultdict\n",
    "from collections import Counter\n",
    "from sklearn.ensemble import RandomForestClassifier\n",
    "from sklearn.linear_model import LogisticRegression\n",
    "from datetime import date \n",
    "from datetime import datetime\n",
    "import sys\n",
    "import matplotlib.pyplot as plt\n",
    "from matplotlib import rc\n",
    "from sklearn.metrics import confusion_matrix, precision_score, recall_score, accuracy_score, mean_squared_error, roc_curve, roc_auc_score, cross_validation\n",
    "import difflib"
   ]
  },
  {
   "cell_type": "markdown",
   "metadata": {},
   "source": [
    "### Load data"
   ]
  },
  {
   "cell_type": "code",
   "execution_count": 4,
   "metadata": {
    "collapsed": true
   },
   "outputs": [],
   "source": [
    "DATA_PICKLE_FILE = '2009-2016-wk5-extra-features.pickle'"
   ]
  },
  {
   "cell_type": "code",
   "execution_count": 5,
   "metadata": {
    "collapsed": false,
    "scrolled": true
   },
   "outputs": [
    {
     "name": "stdout",
     "output_type": "stream",
     "text": [
      "File does not exist\n"
     ]
    }
   ],
   "source": [
    "try:\n",
    "    df = pd.read_pickle(DATA_PICKLE_FILE)\n",
    "    print 'File read'\n",
    "except:\n",
    "    print 'File does not exist' "
   ]
  },
  {
   "cell_type": "code",
   "execution_count": 6,
   "metadata": {
    "collapsed": false
   },
   "outputs": [],
   "source": [
    "# Load database\n",
    "DATABASE = \"Week5.db\"\n",
    "conn = sqlite3.connect(DATABASE)\n",
    "cur = conn.cursor()"
   ]
  },
  {
   "cell_type": "markdown",
   "metadata": {},
   "source": [
    "### Data query"
   ]
  },
  {
   "cell_type": "code",
   "execution_count": 7,
   "metadata": {
    "collapsed": false
   },
   "outputs": [],
   "source": [
    "# Query: Will they play? \n",
    "QUERY_1 = \"\"\"SELECT name, position, injury_type, status, dnp, season, height, weight, age,\n",
    "        injury_type_fut_consec_season, injury_type_pre_career, injury_type_pre_consec_season, \n",
    "        injury_type_pre_season, injury_type_status_fut_consec_season, injury_type_status_pre_career, \n",
    "        injury_type_status_pre_consec_season, injury_type_status_pre_season, injury_type_tot_consec_season,\n",
    "        dnp_pre_career, dnp_pre_consec_season, dnp_pre_season\n",
    "        FROM Injuries\n",
    "        WHERE injury_type != \"none\" AND injury_type NOT LIKE '%suspension%' \n",
    "        AND height NOT NULL AND weight NOT NULL AND age NOT NULL \n",
    "            AND season IN (\"2010\", \"2011\", \"2012\", \"2013\", \"2014\", \"2015\") \"\"\"\n",
    "DF = pd.read_sql_query(QUERY_1, conn)\n",
    "DF = DF.fillna(0)"
   ]
  },
  {
   "cell_type": "code",
   "execution_count": 8,
   "metadata": {
    "collapsed": false
   },
   "outputs": [
    {
     "data": {
      "text/plain": [
       "<pandas.core.groupby.DataFrameGroupBy object at 0x107f7ded0>"
      ]
     },
     "execution_count": 8,
     "metadata": {},
     "output_type": "execute_result"
    }
   ],
   "source": [
    "# Check balance\n",
    "DF[['dnp']].groupby(['dnp'])"
   ]
  },
  {
   "cell_type": "markdown",
   "metadata": {},
   "source": [
    "### Create training, validation, and test set"
   ]
  },
  {
   "cell_type": "code",
   "execution_count": 9,
   "metadata": {
    "collapsed": false
   },
   "outputs": [],
   "source": [
    "# Select features and output (one-hot encode)\n",
    "OUTPUT = 'dnp'\n",
    "# Tuning\n",
    "tmp = pd.get_dummies(DF[['position', 'injury_type', 'status']]) # week_num removed\n",
    "DF = pd.concat([tmp, DF[[OUTPUT,'height','weight','age',\n",
    "                         ]]], axis = 1, join = 'inner')\n",
    "\n",
    "DF['is_train'] = np.random.uniform(0, 1, len(DF)) <= .75\n",
    "train, test = DF[DF['is_train']==True], DF[DF['is_train']==False] # Assign training and test data\n",
    "train_output = train[OUTPUT]\n",
    "test_output = test[OUTPUT]\n",
    "true = test_output\n",
    "train_input = train.drop([OUTPUT, 'is_train'], axis = 1)\n",
    "test_input = test.drop([OUTPUT, 'is_train'], axis=1)\n",
    "features = train_input.columns"
   ]
  },
  {
   "cell_type": "code",
   "execution_count": 10,
   "metadata": {
    "collapsed": false
   },
   "outputs": [
    {
     "name": "stdout",
     "output_type": "stream",
     "text": [
      "Sanity check:  Training set 38367\n",
      "Test set 12939 Feature size 540\n",
      "Features [u'position_C', u'position_CB', u'position_DB', u'position_DB-WR', u'position_DE', u'position_DE-C', u'position_DE-DT', u'position_DL', u'position_DT', u'position_FB'] ...\n",
      "Output [u'0' u'1']\n"
     ]
    }
   ],
   "source": [
    "print 'Sanity check: ',\n",
    "print 'Training set', train.shape[0]\n",
    "print 'Test set', test.shape[0], \n",
    "print 'Feature size', len(features)\n",
    "print 'Features', list(features)[0:10], '...'\n",
    "print 'Output', test_output.unique()"
   ]
  },
  {
   "cell_type": "markdown",
   "metadata": {},
   "source": [
    "### Random Forest model"
   ]
  },
  {
   "cell_type": "code",
   "execution_count": 11,
   "metadata": {
    "collapsed": false
   },
   "outputs": [
    {
     "name": "stdout",
     "output_type": "stream",
     "text": [
      "done\n"
     ]
    }
   ],
   "source": [
    "# forest = RandomForestClassifier(n_estimators = 10);\n",
    "forest = RandomForestClassifier(n_estimators = len(features), class_weight = {'0': 1.5, '1': 1});\n",
    "print 'done'"
   ]
  },
  {
   "cell_type": "code",
   "execution_count": 12,
   "metadata": {
    "collapsed": false,
    "scrolled": false
   },
   "outputs": [
    {
     "name": "stdout",
     "output_type": "stream",
     "text": [
      "540 (12939, 542) (38367, 542) (38367, 540) (12939, 540)\n"
     ]
    }
   ],
   "source": [
    "print len(features), test.shape, train.shape, train_input.shape, test_input.shape\n",
    "# print train.head()"
   ]
  },
  {
   "cell_type": "markdown",
   "metadata": {},
   "source": [
    "### Train model"
   ]
  },
  {
   "cell_type": "code",
   "execution_count": 13,
   "metadata": {
    "collapsed": false,
    "scrolled": true
   },
   "outputs": [
    {
     "data": {
      "text/plain": [
       "RandomForestClassifier(bootstrap=True, class_weight={'1': 1, '0': 1.5},\n",
       "            criterion='gini', max_depth=None, max_features='auto',\n",
       "            max_leaf_nodes=None, min_samples_leaf=1, min_samples_split=2,\n",
       "            min_weight_fraction_leaf=0.0, n_estimators=540, n_jobs=1,\n",
       "            oob_score=False, random_state=None, verbose=0,\n",
       "            warm_start=False)"
      ]
     },
     "execution_count": 13,
     "metadata": {},
     "output_type": "execute_result"
    }
   ],
   "source": [
    "forest.fit(train[features],train_output)"
   ]
  },
  {
   "cell_type": "markdown",
   "metadata": {},
   "source": [
    "### Test model"
   ]
  },
  {
   "cell_type": "code",
   "execution_count": 12,
   "metadata": {
    "collapsed": true
   },
   "outputs": [],
   "source": [
    "try: \n",
    "    forest = forest_loaded\n",
    "except:\n",
    "    pass"
   ]
  },
  {
   "cell_type": "code",
   "execution_count": 108,
   "metadata": {
    "collapsed": false,
    "scrolled": true
   },
   "outputs": [
    {
     "name": "stdout",
     "output_type": "stream",
     "text": [
      "Precision: 0.916\n",
      "Recall: 0.88\n",
      "Confusion matrix\n",
      "[[4196  650]\n",
      " [ 970 7115]]\n"
     ]
    }
   ],
   "source": [
    "prediction = forest.predict(test[features])\n",
    "y_true =  [int(i) for i in list(true)]\n",
    "y_pred = [int(i) for i in list(prediction)]\n",
    "cm=confusion_matrix(y_true, y_pred, labels = [0,1])\n",
    "\n",
    "# cm=confusion_matrix(y_true, y_pred)\n",
    "precision = precision_score(y_true, y_pred)\n",
    "recall = recall_score(y_true, y_pred)\n",
    "print 'Precision: {}'.format(round(precision,3))\n",
    "print 'Recall: {}'.format(round(recall, 3))\n",
    "print 'Confusion matrix'\n",
    "print cm"
   ]
  },
  {
   "cell_type": "markdown",
   "metadata": {},
   "source": [
    "### ROC"
   ]
  },
  {
   "cell_type": "code",
   "execution_count": 13,
   "metadata": {
    "collapsed": true
   },
   "outputs": [],
   "source": [
    "# ROC\n",
    "y_pred_rf = forest.predict_proba(test[features])[:, 1]\n",
    "fpr_rf, tpr_rf, threshold = roc_curve(map(lambda x: int(x), list(test_output)), y_pred_rf)"
   ]
  },
  {
   "cell_type": "code",
   "execution_count": 17,
   "metadata": {
    "collapsed": false
   },
   "outputs": [
    {
     "data": {
      "image/png": "[encoded data removed]",
      "text/plain": [
       "<matplotlib.figure.Figure at 0x10bd584d0>"
      ]
     },
     "metadata": {},
     "output_type": "display_data"
    }
   ],
   "source": [
    "plt.scatter(tpr_rf, threshold)\n",
    "plt.show()"
   ]
  },
  {
   "cell_type": "code",
   "execution_count": 110,
   "metadata": {
    "collapsed": false
   },
   "outputs": [
    {
     "name": "stdout",
     "output_type": "stream",
     "text": [
      "AUC: 0.948639787585\n"
     ]
    },
    {
     "data": {
      "image/png": "[encoded data removed]",
      "text/plain": [
       "<matplotlib.figure.Figure at 0x115b62d90>"
      ]
     },
     "metadata": {},
     "output_type": "display_data"
    }
   ],
   "source": [
    "# Plot ROC\n",
    "plt.plot(fpr_rf, tpr_rf, label='RF',color = 'g', lw = '4')\n",
    "plt.xlabel('False positive rate')\n",
    "plt.ylabel('True positive rate')\n",
    "plt.xlim([0.0, 1.0])\n",
    "plt.ylim([0.0, 1.05])\n",
    "font = {'family' : 'normal',\n",
    "        'weight' : 'bold',\n",
    "        'size'   : 22}\n",
    "\n",
    "rc('font', **font)\n",
    "print \"AUC:\", roc_auc_score(map(lambda x: int(x), list(test_output)), y_pred_rf)"
   ]
  },
  {
   "cell_type": "markdown",
   "metadata": {},
   "source": [
    "### Cross validation"
   ]
  },
  {
   "cell_type": "code",
   "execution_count": 21,
   "metadata": {
    "collapsed": false,
    "scrolled": false
   },
   "outputs": [
    {
     "name": "stdout",
     "output_type": "stream",
     "text": [
      "Accuracy: 0.856624805381 +/- 0.00322637264319\n"
     ]
    }
   ],
   "source": [
    "# Cross validation\n",
    "a = cross_validation.cross_val_score(forest, X = DF[features], y = DF[OUTPUT], cv=5)\n",
    "print \"Accuracy: {} +/- {}\".format(a.mean(), a.std())"
   ]
  },
  {
   "cell_type": "markdown",
   "metadata": {},
   "source": [
    "### Feature importance"
   ]
  },
  {
   "cell_type": "code",
   "execution_count": 22,
   "metadata": {
    "collapsed": false,
    "scrolled": false
   },
   "outputs": [
    {
     "name": "stdout",
     "output_type": "stream",
     "text": [
      "Features sorted by their score (top 20, total features 540):\n",
      "1. (0.2505, u'status_IR') (0.2505)\n",
      "2. (0.2202, u'status_P') (0.2202)\n",
      "3. (0.1019, 'weight') (0.1019)\n",
      "4. (0.0936, u'status_Q') (0.0936)\n",
      "5. (0.0692, 'age') (0.0692)\n",
      "6. (0.0517, u'status_O') (0.0517)\n",
      "7. (0.0514, 'height') (0.0514)\n",
      "8. (0.0175, u'status_PUP') (0.0175)\n",
      "9. (0.0088, u'status_D') (0.0088)\n",
      "10. (0.0065, u'injury_type_knee') (0.0065)\n",
      "11. (0.0059, u'injury_type_hamstring') (0.0059)\n",
      "12. (0.0053, u'injury_type_unknown') (0.0053)\n",
      "13. (0.0053, u'injury_type_achilles') (0.0053)\n",
      "14. (0.0042, u'injury_type_ankle') (0.0042)\n",
      "15. (0.0033, u'injury_type_feet') (0.0033)\n",
      "16. (0.0032, u'position_WR') (0.0032)\n",
      "17. (0.0032, u'injury_type_illness') (0.0032)\n",
      "18. (0.0031, u'injury_type_groin') (0.0031)\n",
      "19. (0.003, u'injury_type_shoulder') (0.003)\n",
      "20. (0.003, u'injury_type_concussion') (0.003)\n"
     ]
    }
   ],
   "source": [
    "# Importances\n",
    "importances = forest.feature_importances_\n",
    "no_views = 20\n",
    "print \"Features sorted by their score (top {}, total features {}):\".format(no_views, len(importances))\n",
    "sorted_importances = sorted(zip(map(lambda x: round(x, 4), importances), features), \n",
    "             reverse=True)\n",
    "top_importances, top_features = zip(*sorted_importances[0:no_views])\n",
    "\n",
    "for i, feature in enumerate(sorted_importances):\n",
    "    print '{}. {} ({})'.format(i+1,feature, top_importances[i])\n",
    "    if i == no_views-1:\n",
    "        break"
   ]
  },
  {
   "cell_type": "code",
   "execution_count": 23,
   "metadata": {
    "collapsed": false,
    "scrolled": false
   },
   "outputs": [
    {
     "name": "stderr",
     "output_type": "stream",
     "text": [
      "/Users/Grace/.virtualenvs/my_projects_env/lib/python2.7/site-packages/matplotlib/font_manager.py:1288: UserWarning: findfont: Font family [u'normal'] not found. Falling back to Bitstream Vera Sans\n",
      "  (prop.get_family(), self.defaultFamily[fontext]))\n"
     ]
    },
    {
     "data": {
      "image/png": "[encoded data removed]",
      "text/plain": [
       "<matplotlib.figure.Figure at 0x119109e90>"
      ]
     },
     "metadata": {},
     "output_type": "display_data"
    }
   ],
   "source": [
    "indices = np.argsort(top_importances)\n",
    "x_pos = np.arange(len(top_importances))\n",
    "\n",
    "plt.title(\"Feature importances\")\n",
    "plt.barh(x_pos, top_importances, color=\"g\", edgecolor = 'w', align = 'center')\n",
    "plt.yticks(x_pos, top_features, rotation = 'horizontal', fontsize = 'medium')\n",
    "plt.gca().invert_yaxis()\n",
    "font = {'family' : 'normal',\n",
    "        'weight' : 'bold',\n",
    "        'size'   : 22}\n",
    "\n",
    "# rc('font', **font)\n",
    "# plt.gca().invert_yaxis()\n",
    "plt.show()"
   ]
  },
  {
   "cell_type": "markdown",
   "metadata": {},
   "source": [
    "### Save model"
   ]
  },
  {
   "cell_type": "code",
   "execution_count": 111,
   "metadata": {
    "collapsed": false
   },
   "outputs": [],
   "source": [
    "# Save model\n",
    "import cPickle\n",
    "\n",
    "with open('Models/Model_1.pkl', 'wb') as fid:\n",
    "    cPickle.dump(forest, fid)   \n",
    "with open('Models/Model_1_features.pkl', 'wb') as fid:\n",
    "    cPickle.dump(features, fid)   "
   ]
  },
  {
   "cell_type": "code",
   "execution_count": 11,
   "metadata": {
    "collapsed": false
   },
   "outputs": [
    {
     "name": "stdout",
     "output_type": "stream",
     "text": [
      "done\n"
     ]
    }
   ],
   "source": [
    "import cPickle\n",
    "with open('Models/Model_1.pkl', 'rb') as fid:\n",
    "    forest_loaded = cPickle.load(fid)\n",
    "print 'done'"
   ]
  },
  {
   "cell_type": "code",
   "execution_count": 29,
   "metadata": {
    "collapsed": false,
    "scrolled": false
   },
   "outputs": [
    {
     "name": "stdout",
     "output_type": "stream",
     "text": [
      "RandomForestClassifier(bootstrap=True, class_weight={'1': 1, '0': 1.5},\n",
      "            criterion='gini', max_depth=None, max_features='auto',\n",
      "            max_leaf_nodes=None, min_samples_leaf=1, min_samples_split=2,\n",
      "            min_weight_fraction_leaf=0.0, n_estimators=540, n_jobs=1,\n",
      "            oob_score=False, random_state=None, verbose=0,\n",
      "            warm_start=False)\n",
      "540\n"
     ]
    }
   ],
   "source": [
    "print forest_loaded\n",
    "print len(features)"
   ]
  },
  {
   "cell_type": "markdown",
   "metadata": {},
   "source": [
    "# Alternate classifier: Logistic regression comparison\n"
   ]
  },
  {
   "cell_type": "markdown",
   "metadata": {},
   "source": [
    "### Logistic regression"
   ]
  },
  {
   "cell_type": "code",
   "execution_count": 63,
   "metadata": {
    "collapsed": false
   },
   "outputs": [],
   "source": [
    "# Logistic regression\n",
    "lr = LogisticRegression(penalty='l2')"
   ]
  },
  {
   "cell_type": "markdown",
   "metadata": {},
   "source": [
    "### Train model"
   ]
  },
  {
   "cell_type": "code",
   "execution_count": 64,
   "metadata": {
    "collapsed": false
   },
   "outputs": [
    {
     "data": {
      "text/plain": [
       "LogisticRegression(C=1.0, class_weight=None, dual=False, fit_intercept=True,\n",
       "          intercept_scaling=1, max_iter=100, multi_class='ovr', n_jobs=1,\n",
       "          penalty='l2', random_state=None, solver='liblinear', tol=0.0001,\n",
       "          verbose=0, warm_start=False)"
      ]
     },
     "execution_count": 64,
     "metadata": {},
     "output_type": "execute_result"
    }
   ],
   "source": [
    "# Logistic regression\n",
    "lr.fit(train[features], train_output)"
   ]
  },
  {
   "cell_type": "markdown",
   "metadata": {},
   "source": [
    "### Test model"
   ]
  },
  {
   "cell_type": "code",
   "execution_count": 65,
   "metadata": {
    "collapsed": false,
    "scrolled": true
   },
   "outputs": [
    {
     "name": "stdout",
     "output_type": "stream",
     "text": [
      "Precision: 0.94\n",
      "Recall: 0.833\n",
      "Confusion matrix\n",
      "[[4394  415]\n",
      " [1311 6534]]\n"
     ]
    }
   ],
   "source": [
    "# Logistic regression\n",
    "prediction = lr.predict(test[features])\n",
    "y_true =  [int(i) for i in list(true)]\n",
    "y_pred = [int(i) for i in list(prediction)]\n",
    "cm=confusion_matrix(y_true, y_pred, labels = [0,1])\n",
    "\n",
    "# cm=confusion_matrix(y_true, y_pred)\n",
    "precision = precision_score(y_true, y_pred)\n",
    "recall = recall_score(y_true, y_pred)\n",
    "print 'Precision: {}'.format(round(precision,3))\n",
    "print 'Recall: {}'.format(round(recall, 3))\n",
    "print 'Confusion matrix'\n",
    "print cm"
   ]
  },
  {
   "cell_type": "markdown",
   "metadata": {},
   "source": [
    "### Cross-validation"
   ]
  },
  {
   "cell_type": "code",
   "execution_count": 66,
   "metadata": {
    "collapsed": false
   },
   "outputs": [
    {
     "name": "stdout",
     "output_type": "stream",
     "text": [
      "Accuracy: 0.865610038933 +/- 0.00514785091557\n"
     ]
    }
   ],
   "source": [
    "# Logistic regression\n",
    "from sklearn import cross_validation\n",
    "a = cross_validation.cross_val_score(lr, X = DF[features], y = DF[OUTPUT], cv=5)\n",
    "print \"Accuracy: {} +/- {}\".format(a.mean(), a.std())"
   ]
  },
  {
   "cell_type": "markdown",
   "metadata": {},
   "source": [
    "### ROC"
   ]
  },
  {
   "cell_type": "code",
   "execution_count": 67,
   "metadata": {
    "collapsed": true
   },
   "outputs": [],
   "source": [
    "# ROC\n",
    "y_pred_rf = lr.predict_proba(test[features])[:, 1]\n",
    "fpr_rf, tpr_rf, _ = roc_curve(map(lambda x: int(x), list(test_output)), y_pred_rf)"
   ]
  },
  {
   "cell_type": "code",
   "execution_count": 68,
   "metadata": {
    "collapsed": false
   },
   "outputs": [
    {
     "name": "stdout",
     "output_type": "stream",
     "text": [
      "AUC: 0.94329484458\n"
     ]
    },
    {
     "name": "stderr",
     "output_type": "stream",
     "text": [
      "/Users/Grace/.virtualenvs/my_projects_env/lib/python2.7/site-packages/matplotlib/font_manager.py:1288: UserWarning: findfont: Font family [u'normal'] not found. Falling back to Bitstream Vera Sans\n",
      "  (prop.get_family(), self.defaultFamily[fontext]))\n"
     ]
    },
    {
     "data": {
      "image/png": "[encoded data removed]",
      "text/plain": [
       "<matplotlib.figure.Figure at 0x118ced090>"
      ]
     },
     "metadata": {},
     "output_type": "display_data"
    }
   ],
   "source": [
    "# Plot ROC\n",
    "plt.plot(fpr_rf, tpr_rf, label='RF',color = 'g', lw = '4')\n",
    "plt.xlabel('False positive rate')\n",
    "plt.ylabel('True positive rate')\n",
    "plt.xlim([0.0, 1.0])\n",
    "plt.ylim([0.0, 1.05])\n",
    "font = {'family' : 'normal',\n",
    "        'weight' : 'bold',\n",
    "        'size'   : 22}\n",
    "\n",
    "rc('font', **font)\n",
    "print \"AUC:\", roc_auc_score(map(lambda x: int(x), list(test_output)), y_pred_rf)"
   ]
  },
  {
   "cell_type": "markdown",
   "metadata": {},
   "source": [
    "# Alternate classifier: Prediction based on probability"
   ]
  },
  {
   "cell_type": "code",
   "execution_count": 29,
   "metadata": {
    "collapsed": false
   },
   "outputs": [],
   "source": [
    "conn = sqlite3.connect(DATABASE)\n",
    "cur = conn.cursor()"
   ]
  },
  {
   "cell_type": "markdown",
   "metadata": {},
   "source": [
    "### Data query"
   ]
  },
  {
   "cell_type": "code",
   "execution_count": 64,
   "metadata": {
    "collapsed": false
   },
   "outputs": [],
   "source": [
    "QUERY = \"\"\"SELECT name, position, injury_type, status, dnp, season, height, weight, age,\n",
    "        injury_type_fut_consec_season, injury_type_pre_career, injury_type_pre_consec_season, \n",
    "        injury_type_pre_season, injury_type_status_fut_consec_season, injury_type_status_pre_career, \n",
    "        injury_type_status_pre_consec_season, injury_type_status_pre_season, injury_type_tot_consec_season,\n",
    "        dnp_pre_career, dnp_pre_consec_season, dnp_pre_season\n",
    "        FROM Injuries\n",
    "        WHERE injury_type != \"none\" AND injury_type NOT LIKE '%suspension%' \n",
    "        AND height NOT NULL AND weight NOT NULL AND age NOT NULL \n",
    "            AND season IN (\"2010\", \"2011\", \"2012\", \"2013\", \"2014\", \"2015\") \"\"\"\n",
    "DF = pd.read_sql_query(QUERY, conn)\n",
    "DF = DF.fillna(0)"
   ]
  },
  {
   "cell_type": "markdown",
   "metadata": {},
   "source": [
    "### Probabilistic model\n",
    "This is based off the historical data. For each player's record, I sampled from a binomial probability distribution (similar to flipping a weighted coin)."
   ]
  },
  {
   "cell_type": "code",
   "execution_count": 67,
   "metadata": {
    "collapsed": false,
    "scrolled": true
   },
   "outputs": [
    {
     "name": "stderr",
     "output_type": "stream",
     "text": [
      "/Users/Grace/.virtualenvs/my_projects_env/lib/python2.7/site-packages/ipykernel/__main__.py:6: SettingWithCopyWarning: \n",
      "A value is trying to be set on a copy of a slice from a DataFrame\n",
      "\n",
      "See the caveats in the documentation: http://pandas.pydata.org/pandas-docs/stable/indexing.html#indexing-view-versus-copy\n"
     ]
    },
    {
     "name": "stdout",
     "output_type": "stream",
     "text": [
      "None 1.0\n",
      "D 0.141104294479\n",
      "IR 0.00893498563218\n",
      "O 0.0\n",
      "Q 0.594436993411\n",
      "P 0.920431609998\n",
      "S 0.0227272727273\n",
      "PUP 0.0\n",
      "None 1.0\n",
      "D 0.141104294479\n",
      "IR 0.00893498563218\n",
      "O 0.0\n",
      "Q 0.594436993411\n",
      "P 0.920431609998\n",
      "S 0.0227272727273\n",
      "PUP 0.0\n",
      "None 1.0\n",
      "D 0.141104294479\n",
      "IR 0.00893498563218\n",
      "O 0.0\n",
      "Q 0.594436993411\n",
      "P 0.920431609998\n",
      "S 0.0227272727273\n",
      "PUP 0.0\n",
      "None 1.0\n",
      "D 0.141104294479\n",
      "IR 0.00893498563218\n",
      "O 0.0\n",
      "Q 0.594436993411\n",
      "P 0.920431609998\n",
      "S 0.0227272727273\n",
      "PUP 0.0\n",
      "None 1.0\n",
      "D 0.141104294479\n",
      "IR 0.00893498563218\n",
      "O 0.0\n",
      "Q 0.594436993411\n",
      "P 0.920431609998\n",
      "S 0.0227272727273\n",
      "PUP 0.0\n",
      "Accuracy: 0.161704284099 +/- 0.0272229183981\n"
     ]
    }
   ],
   "source": [
    "from numpy.random import choice\n",
    "accuracy_scores = []\n",
    "for i in range(0,5):\n",
    "    DF['dnp_pred_prob_based'] = None\n",
    "    for k, v in dnp_per.items():\n",
    "        DF['dnp_pred_prob_based'][DF['status']==k] = choice([0,1], p= [1-v/100, v/100]) \n",
    "    y_true = [int(i) for i in list(DF['dnp'])]\n",
    "    y_pred = [int(i) for i in list(DF['dnp_pred_prob_based'])]\n",
    "\n",
    "    precision = precision_score(y_true, y_pred)\n",
    "    recall = recall_score(y_true, y_pred)\n",
    "    accuracy_scores.append(accuracy_score(y_true, y_pred))\n",
    "print \"Accuracy: {} +/- {}\".format(np.mean(accuracy_scores), np.std(accuracy_scores)) "
   ]
  },
  {
   "cell_type": "code",
   "execution_count": 59,
   "metadata": {
    "collapsed": false,
    "scrolled": true
   },
   "outputs": [
    {
     "data": {
      "text/plain": [
       "array([0, 1], dtype=object)"
      ]
     },
     "execution_count": 59,
     "metadata": {},
     "output_type": "execute_result"
    }
   ],
   "source": [
    "DF[['dnp', 'dnp_pred_prob_based']]\n",
    "DF['dnp_pred_prob_based'].unique()"
   ]
  },
  {
   "cell_type": "markdown",
   "metadata": {},
   "source": [
    "### Calculate precision, recall"
   ]
  },
  {
   "cell_type": "code",
   "execution_count": 39,
   "metadata": {
    "collapsed": true
   },
   "outputs": [
    {
     "name": "stdout",
     "output_type": "stream",
     "text": [
      "Precision: 0.265\n",
      "Recall: 0.213\n",
      "Confusion matrix\n",
      "[[  337 18960]\n",
      " [25190  6819]]\n"
     ]
    }
   ],
   "source": [
    "y_true = [int(i) for i in list(DF['dnp'])]\n",
    "y_pred = [int(i) for i in list(DF['dnp_pred_prob_based'])]\n",
    "\n",
    "cm=confusion_matrix(y_true, y_pred, labels = [0,1])\n",
    "\n",
    "precision = precision_score(y_true, y_pred)\n",
    "recall = recall_score(y_true, y_pred)\n",
    "print 'Precision: {}'.format(round(precision,3))\n",
    "print 'Recall: {}'.format(round(recall, 3))\n",
    "print 'Confusion matrix'\n",
    "print cm"
   ]
  },
  {
   "cell_type": "markdown",
   "metadata": {},
   "source": [
    "### ROC"
   ]
  },
  {
   "cell_type": "code",
   "execution_count": 43,
   "metadata": {
    "collapsed": true
   },
   "outputs": [],
   "source": [
    "# ROC\n",
    "fpr_rf, tpr_rf, _ = roc_curve(map(lambda x: int(x), y_true), y_pred)"
   ]
  },
  {
   "cell_type": "code",
   "execution_count": 66,
   "metadata": {
    "collapsed": false
   },
   "outputs": [
    {
     "name": "stdout",
     "output_type": "stream",
     "text": [
      "AUC: 0.364480085392\n"
     ]
    },
    {
     "data": {
      "image/png": "[encoded data removed]",
      "text/plain": [
       "<matplotlib.figure.Figure at 0x116631410>"
      ]
     },
     "metadata": {},
     "output_type": "display_data"
    }
   ],
   "source": [
    "# Plot ROC\n",
    "plt.plot(fpr_rf, tpr_rf, label='RF',color = 'g', lw = '4')\n",
    "plt.xlabel('False positive rate')\n",
    "plt.ylabel('True positive rate')\n",
    "plt.xlim([0.0, 1.0])\n",
    "plt.ylim([0.0, 1.05])\n",
    "font = {'family' : 'normal',\n",
    "        'weight' : 'bold',\n",
    "        'size'   : 22}\n",
    "\n",
    "rc('font', **font)\n",
    "print \"AUC:\", roc_auc_score(map(lambda x: int(x),  y_true), y_pred)"
   ]
  },
  {
   "cell_type": "markdown",
   "metadata": {},
   "source": [
    "# Using the model for 2016 Predictions"
   ]
  },
  {
   "cell_type": "markdown",
   "metadata": {},
   "source": [
    "### Import model"
   ]
  },
  {
   "cell_type": "code",
   "execution_count": null,
   "metadata": {
    "collapsed": false
   },
   "outputs": [],
   "source": [
    "# Import the model\n",
    "import cPickle\n",
    "with open('Models/Model_1.pkl', 'rb') as fid:\n",
    "    forest_loaded = cPickle.load(fid)\n",
    "print forest_loaded"
   ]
  },
  {
   "cell_type": "markdown",
   "metadata": {},
   "source": [
    "### Import features"
   ]
  },
  {
   "cell_type": "code",
   "execution_count": null,
   "metadata": {
    "collapsed": false
   },
   "outputs": [],
   "source": [
    "# Import the features\n",
    "with open('Models/Model_1_features.pkl', 'rb') as fid:\n",
    "    features = cPickle.load(fid)   \n",
    "print len(features)"
   ]
  },
  {
   "cell_type": "markdown",
   "metadata": {},
   "source": [
    "### Query data"
   ]
  },
  {
   "cell_type": "code",
   "execution_count": 12,
   "metadata": {
    "collapsed": false
   },
   "outputs": [],
   "source": [
    "conn = sqlite3.connect(DATABASE)\n",
    "cur = conn.cursor()"
   ]
  },
  {
   "cell_type": "code",
   "execution_count": 13,
   "metadata": {
    "collapsed": false,
    "scrolled": true
   },
   "outputs": [
    {
     "data": {
      "text/html": [
       "<div>\n",
       "<table border=\"1\" class=\"dataframe\">\n",
       "  <thead>\n",
       "    <tr style=\"text-align: right;\">\n",
       "      <th></th>\n",
       "      <th>status</th>\n",
       "      <th>dnp</th>\n",
       "      <th>COUNT (*)</th>\n",
       "    </tr>\n",
       "  </thead>\n",
       "  <tbody>\n",
       "    <tr>\n",
       "      <th>0</th>\n",
       "      <td>Q</td>\n",
       "      <td>0</td>\n",
       "      <td>304</td>\n",
       "    </tr>\n",
       "    <tr>\n",
       "      <th>1</th>\n",
       "      <td>D</td>\n",
       "      <td>1</td>\n",
       "      <td>66</td>\n",
       "    </tr>\n",
       "    <tr>\n",
       "      <th>2</th>\n",
       "      <td>IR</td>\n",
       "      <td>1</td>\n",
       "      <td>1037</td>\n",
       "    </tr>\n",
       "    <tr>\n",
       "      <th>3</th>\n",
       "      <td>O</td>\n",
       "      <td>1</td>\n",
       "      <td>261</td>\n",
       "    </tr>\n",
       "    <tr>\n",
       "      <th>4</th>\n",
       "      <td>Q</td>\n",
       "      <td>1</td>\n",
       "      <td>135</td>\n",
       "    </tr>\n",
       "  </tbody>\n",
       "</table>\n",
       "</div>"
      ],
      "text/plain": [
       "  status dnp  COUNT (*)\n",
       "0      Q   0        304\n",
       "1      D   1         66\n",
       "2     IR   1       1037\n",
       "3      O   1        261\n",
       "4      Q   1        135"
      ]
     },
     "execution_count": 13,
     "metadata": {},
     "output_type": "execute_result"
    }
   ],
   "source": [
    "QUERY = \"\"\"SELECT status, dnp, COUNT (*)     \n",
    "        FROM Injuries\n",
    "        WHERE injury_type != \"none\" AND injury_type NOT LIKE '%suspension%' \n",
    "        AND height NOT NULL AND weight NOT NULL AND age NOT NULL \n",
    "        AND season IN (\"2016\") \n",
    "        GROUP BY status, dnp\n",
    "        ORDER BY dnp, status\"\"\"\n",
    "DF = pd.read_sql_query(QUERY, conn)\n",
    "DF"
   ]
  },
  {
   "cell_type": "code",
   "execution_count": 14,
   "metadata": {
    "collapsed": false,
    "scrolled": true
   },
   "outputs": [],
   "source": [
    "# Query: Will they play? \n",
    "QUERY = \"\"\"SELECT name, position, injury_type, status, dnp, season, height, weight, age,\n",
    "        injury_type_fut_consec_season, injury_type_pre_career, injury_type_pre_consec_season, \n",
    "        injury_type_pre_season, injury_type_status_fut_consec_season, injury_type_status_pre_career, \n",
    "        injury_type_status_pre_consec_season, injury_type_status_pre_season, injury_type_tot_consec_season,\n",
    "        dnp_pre_career, dnp_pre_consec_season, dnp_pre_season\n",
    "        FROM Injuries\n",
    "        WHERE injury_type != \"none\" AND injury_type NOT LIKE '%suspension%' \n",
    "        AND height NOT NULL AND weight NOT NULL AND age NOT NULL \n",
    "        AND season IN (\"2016\") \n",
    "       \"\"\"\n",
    "DF = pd.read_sql_query(QUERY, conn)\n",
    "DF = DF.fillna(0)"
   ]
  },
  {
   "cell_type": "code",
   "execution_count": 15,
   "metadata": {
    "collapsed": false
   },
   "outputs": [
    {
     "data": {
      "text/plain": [
       "array([u'Q', u'O', u'D', u'IR'], dtype=object)"
      ]
     },
     "execution_count": 15,
     "metadata": {},
     "output_type": "execute_result"
    }
   ],
   "source": [
    "DF['status'].unique()"
   ]
  },
  {
   "cell_type": "markdown",
   "metadata": {},
   "source": [
    "### Sanitize and format data"
   ]
  },
  {
   "cell_type": "code",
   "execution_count": 16,
   "metadata": {
    "collapsed": false
   },
   "outputs": [
    {
     "name": "stdout",
     "output_type": "stream",
     "text": [
      "542 542 540 540\n",
      "injury_type_upper  body\n",
      "dnp\n"
     ]
    }
   ],
   "source": [
    "# Select features and output (one-hot encode)\n",
    "OUTPUT = 'dnp'\n",
    "\n",
    "tmp = pd.get_dummies(DF[['position', 'injury_type', 'status']]) \n",
    "DF = pd.concat([tmp, DF[[OUTPUT,'height','weight','age']]], axis = 1, join = 'inner')\n",
    "features_2016 = DF.columns\n",
    "\n",
    "for f in features:\n",
    "    if f not in set(features_2016):\n",
    "        DF[f]=0\n",
    "print len(DF.columns), len(set(DF.columns)), len(features), len(set(features))\n",
    "        \n",
    "for i in DF.columns:\n",
    "    if i not in set(features): print i\n",
    "        \n",
    "test_output = DF[OUTPUT]\n",
    "try: \n",
    "    test_input = DF.drop([OUTPUT], axis=1)\n",
    "    test_input = DF.drop([OUTPUT, 'injury_type_upper  body'], axis=1)\n",
    "except:\n",
    "    pass"
   ]
  },
  {
   "cell_type": "markdown",
   "metadata": {},
   "source": [
    "### Test model"
   ]
  },
  {
   "cell_type": "code",
   "execution_count": 17,
   "metadata": {
    "collapsed": false,
    "scrolled": false
   },
   "outputs": [],
   "source": [
    "predictions_to_date =  forest_loaded.predict(test_input)"
   ]
  },
  {
   "cell_type": "markdown",
   "metadata": {},
   "source": [
    "### Model performance"
   ]
  },
  {
   "cell_type": "code",
   "execution_count": 18,
   "metadata": {
    "collapsed": false,
    "scrolled": true
   },
   "outputs": [
    {
     "name": "stdout",
     "output_type": "stream",
     "text": [
      "Precision: 0.831\n",
      "Recall: 1.0\n",
      "Accuracy: 0.831\n",
      "Confusion matrix\n"
     ]
    },
    {
     "ename": "NameError",
     "evalue": "name 'cm' is not defined",
     "output_type": "error",
     "traceback": [
      "\u001b[0;31m---------------------------------------------------------------------------\u001b[0m",
      "\u001b[0;31mNameError\u001b[0m                                 Traceback (most recent call last)",
      "\u001b[0;32m<ipython-input-18-248c659d4782>\u001b[0m in \u001b[0;36m<module>\u001b[0;34m()\u001b[0m\n\u001b[1;32m     11\u001b[0m \u001b[0;32mprint\u001b[0m \u001b[0;34m'Accuracy: {}'\u001b[0m\u001b[0;34m.\u001b[0m\u001b[0mformat\u001b[0m\u001b[0;34m(\u001b[0m\u001b[0mround\u001b[0m\u001b[0;34m(\u001b[0m\u001b[0maccuracy\u001b[0m\u001b[0;34m,\u001b[0m \u001b[0;36m3\u001b[0m\u001b[0;34m)\u001b[0m\u001b[0;34m)\u001b[0m\u001b[0;34m\u001b[0m\u001b[0m\n\u001b[1;32m     12\u001b[0m \u001b[0;32mprint\u001b[0m \u001b[0;34m'Confusion matrix'\u001b[0m\u001b[0;34m\u001b[0m\u001b[0m\n\u001b[0;32m---> 13\u001b[0;31m \u001b[0;32mprint\u001b[0m \u001b[0mcm\u001b[0m\u001b[0;34m\u001b[0m\u001b[0m\n\u001b[0m",
      "\u001b[0;31mNameError\u001b[0m: name 'cm' is not defined"
     ]
    }
   ],
   "source": [
    "y_true =  [int(i) for i in list(test_output)]\n",
    "y_pred = [int(i) for i in list(predictions_to_date)]\n",
    "\n",
    "precision = precision_score(y_true, y_pred)\n",
    "recall = recall_score(y_true, y_pred)\n",
    "accuracy = accuracy_score(y_true, y_pred)\n",
    "print 'Precision: {}'.format(round(precision,3))\n",
    "print 'Recall: {}'.format(round(recall, 3))\n",
    "print 'Accuracy: {}'.format(round(accuracy, 3))"
   ]
  },
  {
   "cell_type": "code",
   "execution_count": 20,
   "metadata": {
    "collapsed": false
   },
   "outputs": [],
   "source": [
    "# ROC\n",
    "y_pred_rf = forest_loaded.predict_proba(test_input[features])[:, 1]\n",
    "fpr_rf, tpr_rf, _ = roc_curve(map(lambda x: int(x), list(test_output)), y_pred_rf)"
   ]
  },
  {
   "cell_type": "code",
   "execution_count": 21,
   "metadata": {
    "collapsed": false,
    "scrolled": false
   },
   "outputs": [
    {
     "name": "stdout",
     "output_type": "stream",
     "text": [
      "AUC: 0.948754213335\n"
     ]
    },
    {
     "data": {
      "image/png": "[encoded data removed]",
      "text/plain": [
       "<matplotlib.figure.Figure at 0x10ef3f550>"
      ]
     },
     "metadata": {},
     "output_type": "display_data"
    }
   ],
   "source": [
    "# Plot ROC\n",
    "plt.plot(fpr_rf, tpr_rf, label='RF',color = 'g', lw = '4')\n",
    "plt.xlabel('False positive rate')\n",
    "plt.ylabel('True positive rate')\n",
    "plt.xlim([0.0, 1.0])\n",
    "plt.ylim([0.0, 1.05])\n",
    "font = {'family' : 'normal',\n",
    "        'weight' : 'bold',\n",
    "        'size'   : 22}\n",
    "\n",
    "rc('font', **font)\n",
    "print \"AUC:\", roc_auc_score(map(lambda x: int(x), list(test_output)), y_pred_rf)"
   ]
  },
  {
   "cell_type": "markdown",
   "metadata": {},
   "source": [
    "# Alternative classifier: P --> Q\n",
    "For the 2016 NFL season, the NFL stopped using \"P\" to describe probable players. To account for this in my model, I assumed that all players that would have been labeled as \"P\" would be labeled as \"Q\"."
   ]
  },
  {
   "cell_type": "code",
   "execution_count": 70,
   "metadata": {
    "collapsed": false
   },
   "outputs": [],
   "source": [
    "conn = sqlite3.connect(DATABASE)\n",
    "cur = conn.cursor()"
   ]
  },
  {
   "cell_type": "markdown",
   "metadata": {},
   "source": [
    "### Query data"
   ]
  },
  {
   "cell_type": "code",
   "execution_count": 80,
   "metadata": {
    "collapsed": false
   },
   "outputs": [],
   "source": [
    "# Query: Will they play? \n",
    "QUERY_1 = \"\"\"SELECT name, position, injury_type, status, dnp, season, height, weight, age,\n",
    "        injury_type_fut_consec_season, injury_type_pre_career, injury_type_pre_consec_season, \n",
    "        injury_type_pre_season, injury_type_status_fut_consec_season, injury_type_status_pre_career, \n",
    "        injury_type_status_pre_consec_season, injury_type_status_pre_season, injury_type_tot_consec_season,\n",
    "        dnp_pre_career, dnp_pre_consec_season, dnp_pre_season\n",
    "        FROM Injuries\n",
    "        WHERE injury_type != \"none\" AND injury_type NOT LIKE '%suspension%' \n",
    "        AND height NOT NULL AND weight NOT NULL AND age NOT NULL \n",
    "            AND season IN (\"2010\", \"2011\", \"2012\", \"2013\", \"2014\", \"2015\") \"\"\"\n",
    "DF = pd.read_sql_query(QUERY_1, conn)\n",
    "DF = DF.fillna(0)"
   ]
  },
  {
   "cell_type": "code",
   "execution_count": 81,
   "metadata": {
    "collapsed": false,
    "scrolled": true
   },
   "outputs": [],
   "source": [
    "DF['dnp']=DF['dnp'].astype(int)"
   ]
  },
  {
   "cell_type": "markdown",
   "metadata": {},
   "source": [
    "### Transform data"
   ]
  },
  {
   "cell_type": "code",
   "execution_count": 82,
   "metadata": {
    "collapsed": false,
    "scrolled": false
   },
   "outputs": [
    {
     "name": "stderr",
     "output_type": "stream",
     "text": [
      "/Users/Grace/.virtualenvs/my_projects_env/lib/python2.7/site-packages/ipykernel/__main__.py:2: SettingWithCopyWarning: \n",
      "A value is trying to be set on a copy of a slice from a DataFrame\n",
      "\n",
      "See the caveats in the documentation: http://pandas.pydata.org/pandas-docs/stable/indexing.html#indexing-view-versus-copy\n",
      "  from ipykernel import kernelapp as app\n"
     ]
    }
   ],
   "source": [
    "# Change P to Q\n",
    "DF['status'][DF['status'] == 'P']= 'Q'"
   ]
  },
  {
   "cell_type": "markdown",
   "metadata": {},
   "source": [
    "### Create training, validation, and test data"
   ]
  },
  {
   "cell_type": "code",
   "execution_count": 83,
   "metadata": {
    "collapsed": false
   },
   "outputs": [],
   "source": [
    "# Select features and output (one-hot encode)\n",
    "OUTPUT = 'dnp'\n",
    "\n",
    "# Tuning\n",
    "tmp = pd.get_dummies(DF[['position', 'injury_type', 'status']]) # week_num removed\n",
    "DF = pd.concat([tmp, DF[[OUTPUT,'height','weight','age',]]], axis = 1, join = 'inner')\n",
    "\n",
    "DF['is_train'] = np.random.uniform(0, 1, len(DF)) <= .75\n",
    "train, test = DF[DF['is_train']==True], DF[DF['is_train']==False] # Assign training and test data\n",
    "train_output = train[OUTPUT]\n",
    "test_output = test[OUTPUT]\n",
    "true = test_output\n",
    "train_input = train.drop([OUTPUT, 'is_train'], axis = 1)\n",
    "test_input = test.drop([OUTPUT, 'is_train'], axis=1)\n",
    "features = train_input.columns"
   ]
  },
  {
   "cell_type": "code",
   "execution_count": 84,
   "metadata": {
    "collapsed": false
   },
   "outputs": [
    {
     "name": "stdout",
     "output_type": "stream",
     "text": [
      "Sanity check:  Training set 38587\n",
      "Test set 12719 Feature size 539\n",
      "Features [u'position_C', u'position_CB', u'position_DB', u'position_DB-WR', u'position_DE', u'position_DE-C', u'position_DE-DT', u'position_DL', u'position_DT', u'position_FB'] ...\n",
      "Output [0 1]\n"
     ]
    }
   ],
   "source": [
    "print 'Sanity check: ',\n",
    "print 'Training set', train.shape[0]\n",
    "print 'Test set', test.shape[0], \n",
    "print 'Feature size', len(features)\n",
    "print 'Features', list(features)[0:10], '...'\n",
    "print 'Output', test_output.unique()"
   ]
  },
  {
   "cell_type": "markdown",
   "metadata": {},
   "source": [
    "### Random forest model"
   ]
  },
  {
   "cell_type": "code",
   "execution_count": 85,
   "metadata": {
    "collapsed": false
   },
   "outputs": [
    {
     "name": "stdout",
     "output_type": "stream",
     "text": [
      "done\n"
     ]
    }
   ],
   "source": [
    "forest = RandomForestClassifier(n_estimators = int(np.sqrt(len(features))), class_weight = {0: 1.5, 1: 1});\n",
    "print 'done'"
   ]
  },
  {
   "cell_type": "code",
   "execution_count": 86,
   "metadata": {
    "collapsed": false
   },
   "outputs": [
    {
     "name": "stdout",
     "output_type": "stream",
     "text": [
      "539 (12719, 541) (38587, 541) (38587, 539) (12719, 539)\n"
     ]
    }
   ],
   "source": [
    "print len(features), test.shape, train.shape, train_input.shape, test_input.shape\n",
    "# print train.head()"
   ]
  },
  {
   "cell_type": "markdown",
   "metadata": {},
   "source": [
    "### Test model"
   ]
  },
  {
   "cell_type": "code",
   "execution_count": 87,
   "metadata": {
    "collapsed": false,
    "scrolled": true
   },
   "outputs": [
    {
     "data": {
      "text/plain": [
       "RandomForestClassifier(bootstrap=True, class_weight={0: 1.5, 1: 1},\n",
       "            criterion='gini', max_depth=None, max_features='auto',\n",
       "            max_leaf_nodes=None, min_samples_leaf=1, min_samples_split=2,\n",
       "            min_weight_fraction_leaf=0.0, n_estimators=23, n_jobs=1,\n",
       "            oob_score=False, random_state=None, verbose=0,\n",
       "            warm_start=False)"
      ]
     },
     "execution_count": 87,
     "metadata": {},
     "output_type": "execute_result"
    }
   ],
   "source": [
    "forest.fit(train[features],train_output)"
   ]
  },
  {
   "cell_type": "markdown",
   "metadata": {},
   "source": [
    "### Model performa"
   ]
  },
  {
   "cell_type": "code",
   "execution_count": 88,
   "metadata": {
    "collapsed": false,
    "scrolled": true
   },
   "outputs": [
    {
     "name": "stdout",
     "output_type": "stream",
     "text": [
      "Precision: 0.917\n",
      "Recall: 0.866\n",
      "Confusion matrix\n",
      "[[4154  621]\n",
      " [1062 6882]]\n"
     ]
    }
   ],
   "source": [
    "prediction = forest.predict(test[features])\n",
    "y_true =  [int(i) for i in list(true)]\n",
    "y_pred = [int(i) for i in list(prediction)]\n",
    "cm=confusion_matrix(y_true, y_pred, labels = [0,1])\n",
    "\n",
    "precision = precision_score(y_true, y_pred)\n",
    "recall = recall_score(y_true, y_pred)\n",
    "print 'Precision: {}'.format(round(precision,3))\n",
    "print 'Recall: {}'.format(round(recall, 3))\n",
    "print 'Confusion matrix'\n",
    "print cm"
   ]
  },
  {
   "cell_type": "code",
   "execution_count": 89,
   "metadata": {
    "collapsed": true
   },
   "outputs": [],
   "source": [
    "# ROC\n",
    "y_pred_rf = forest.predict_proba(test[features])[:, 1]\n",
    "fpr_rf, tpr_rf, _ = roc_curve(map(lambda x: int(x), list(test_output)), y_pred_rf)"
   ]
  },
  {
   "cell_type": "code",
   "execution_count": 90,
   "metadata": {
    "collapsed": false
   },
   "outputs": [
    {
     "name": "stdout",
     "output_type": "stream",
     "text": [
      "AUC: 0.93076067815\n"
     ]
    },
    {
     "data": {
      "image/png": "[encoded data removed]",
      "text/plain": [
       "<matplotlib.figure.Figure at 0x10bad1050>"
      ]
     },
     "metadata": {},
     "output_type": "display_data"
    }
   ],
   "source": [
    "# Plot ROC\n",
    "plt.plot(fpr_rf, tpr_rf, label='RF',color = 'g', lw = '4')\n",
    "plt.xlabel('False positive rate')\n",
    "plt.ylabel('True positive rate')\n",
    "plt.xlim([0.0, 1.0])\n",
    "plt.ylim([0.0, 1.05])\n",
    "font = {'family' : 'normal',\n",
    "        'weight' : 'bold',\n",
    "        'size'   : 22}\n",
    "\n",
    "rc('font', **font)\n",
    "print \"AUC:\", roc_auc_score(map(lambda x: int(x), list(test_output)), y_pred_rf)"
   ]
  },
  {
   "cell_type": "code",
   "execution_count": 91,
   "metadata": {
    "collapsed": false,
    "scrolled": false
   },
   "outputs": [
    {
     "name": "stdout",
     "output_type": "stream",
     "text": [
      "Accuracy: 0.844404280949 +/- 0.0037372472779\n"
     ]
    }
   ],
   "source": [
    "from sklearn import cross_validation\n",
    "a = cross_validation.cross_val_score(forest, X = DF[features], y = DF[OUTPUT], cv=5)\n",
    "print \"Accuracy: {} +/- {}\".format(a.mean(), a.std())"
   ]
  },
  {
   "cell_type": "code",
   "execution_count": 92,
   "metadata": {
    "collapsed": false,
    "scrolled": false
   },
   "outputs": [
    {
     "name": "stdout",
     "output_type": "stream",
     "text": [
      "Features sorted by their score (top 20, total features 539):\n",
      "1. (0.3058, u'status_Q') (0.3058)\n",
      "2. (0.2623, u'status_IR') (0.2623)\n",
      "3. (0.107, 'weight') (0.107)\n",
      "4. (0.0705, 'age') (0.0705)\n",
      "5. (0.0523, 'height') (0.0523)\n",
      "6. (0.0486, u'status_O') (0.0486)\n",
      "7. (0.0155, u'status_PUP') (0.0155)\n",
      "8. (0.0072, u'status_D') (0.0072)\n",
      "9. (0.0072, u'injury_type_unknown') (0.0072)\n",
      "10. (0.0062, u'injury_type_knee') (0.0062)\n",
      "11. (0.0057, u'injury_type_hamstring') (0.0057)\n",
      "12. (0.005, u'injury_type_achilles') (0.005)\n",
      "13. (0.0035, u'injury_type_ankle') (0.0035)\n",
      "14. (0.0032, u'injury_type_concussion') (0.0032)\n",
      "15. (0.0031, u'injury_type_groin') (0.0031)\n",
      "16. (0.003, u'injury_type_feet') (0.003)\n",
      "17. (0.0027, u'position_WR') (0.0027)\n",
      "18. (0.0027, u'position_DT') (0.0027)\n",
      "19. (0.0026, u'position_RB') (0.0026)\n",
      "20. (0.0026, u'injury_type_back') (0.0026)\n"
     ]
    }
   ],
   "source": [
    "# Importances\n",
    "importances = forest.feature_importances_\n",
    "no_views = 20\n",
    "print \"Features sorted by their score (top {}, total features {}):\".format(no_views, len(importances))\n",
    "sorted_importances = sorted(zip(map(lambda x: round(x, 4), importances), features), \n",
    "             reverse=True)\n",
    "top_importances, top_features = zip(*sorted_importances[0:no_views])\n",
    "\n",
    "for i, feature in enumerate(sorted_importances):\n",
    "    print '{}. {} ({})'.format(i+1,feature, top_importances[i])\n",
    "    if i == no_views-1:\n",
    "        break"
   ]
  },
  {
   "cell_type": "code",
   "execution_count": 23,
   "metadata": {
    "collapsed": false,
    "scrolled": true
   },
   "outputs": [
    {
     "name": "stderr",
     "output_type": "stream",
     "text": [
      "/Users/Grace/.virtualenvs/my_projects_env/lib/python2.7/site-packages/matplotlib/font_manager.py:1288: UserWarning: findfont: Font family [u'normal'] not found. Falling back to Bitstream Vera Sans\n",
      "  (prop.get_family(), self.defaultFamily[fontext]))\n"
     ]
    },
    {
     "data": {
      "image/png": "[encoded data removed]",
      "text/plain": [
       "<matplotlib.figure.Figure at 0x119109e90>"
      ]
     },
     "metadata": {},
     "output_type": "display_data"
    }
   ],
   "source": [
    "indices = np.argsort(top_importances)\n",
    "x_pos = np.arange(len(top_importances))\n",
    "\n",
    "plt.title(\"Feature importances\")\n",
    "plt.barh(x_pos, top_importances, color=\"g\", edgecolor = 'w', align = 'center')\n",
    "plt.yticks(x_pos, top_features, rotation = 'horizontal', fontsize = 'medium')\n",
    "plt.gca().invert_yaxis()\n",
    "font = {'family' : 'normal',\n",
    "        'weight' : 'bold',\n",
    "        'size'   : 22}\n",
    "plt.show()"
   ]
  }
 ],
 "metadata": {
  "kernelspec": {
   "display_name": "Python 2",
   "language": "python",
   "name": "python2"
  },
  "language_info": {
   "codemirror_mode": {
    "name": "ipython",
    "version": 2
   },
   "file_extension": ".py",
   "mimetype": "text/x-python",
   "name": "python",
   "nbconvert_exporter": "python",
   "pygments_lexer": "ipython2",
   "version": "2.7.10"
  }
 },
 "nbformat": 4,
 "nbformat_minor": 1
}
